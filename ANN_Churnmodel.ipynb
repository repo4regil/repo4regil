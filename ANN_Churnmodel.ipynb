{
  "nbformat": 4,
  "nbformat_minor": 0,
  "metadata": {
    "accelerator": "GPU",
    "colab": {
      "name": "GIMANN.ipynb",
      "provenance": []
    },
    "kernelspec": {
      "display_name": "Python 3",
      "language": "python",
      "name": "python3"
    },
    "language_info": {
      "codemirror_mode": {
        "name": "ipython",
        "version": 3
      },
      "file_extension": ".py",
      "mimetype": "text/x-python",
      "name": "python",
      "nbconvert_exporter": "python",
      "pygments_lexer": "ipython3",
      "version": "3.7.7"
    }
  },
  "cells": [
    {
      "cell_type": "markdown",
      "metadata": {
        "id": "FgkK3UC0fGy9"
      },
      "source": [
        "### ANN With Cutomer Churn Prediction- Classification"
      ]
    },
    {
      "cell_type": "code",
      "metadata": {
        "colab": {
          "base_uri": "https://localhost:8080/"
        },
        "id": "W-HmuaJJfGzI",
        "outputId": "6a82fde4-cb25-422e-80dc-6a0fbe891cb3"
      },
      "source": [
        "!pip install pandas"
      ],
      "execution_count": 2,
      "outputs": [
        {
          "output_type": "stream",
          "text": [
            "Requirement already satisfied: pandas in /usr/local/lib/python3.6/dist-packages (1.1.4)\n",
            "Requirement already satisfied: python-dateutil>=2.7.3 in /usr/local/lib/python3.6/dist-packages (from pandas) (2.8.1)\n",
            "Requirement already satisfied: numpy>=1.15.4 in /usr/local/lib/python3.6/dist-packages (from pandas) (1.18.5)\n",
            "Requirement already satisfied: pytz>=2017.2 in /usr/local/lib/python3.6/dist-packages (from pandas) (2018.9)\n",
            "Requirement already satisfied: six>=1.5 in /usr/local/lib/python3.6/dist-packages (from python-dateutil>=2.7.3->pandas) (1.15.0)\n"
          ],
          "name": "stdout"
        }
      ]
    },
    {
      "cell_type": "code",
      "metadata": {
        "colab": {
          "base_uri": "https://localhost:8080/"
        },
        "id": "bjTfzBIvnkjg",
        "outputId": "130bdd47-f5dd-4b5e-dfaf-73556bce0515"
      },
      "source": [
        "import tensorflow as tf\r\n",
        "print(tf.__version__)"
      ],
      "execution_count": 1,
      "outputs": [
        {
          "output_type": "stream",
          "text": [
            "2.3.0\n"
          ],
          "name": "stdout"
        }
      ]
    },
    {
      "cell_type": "code",
      "metadata": {
        "id": "LJ1czPWJml_f"
      },
      "source": [
        "# Part 1 - Data Preprocessing\n",
        "\n",
        "# Importing the libraries\n",
        "import numpy as np\n",
        "import matplotlib.pyplot as plt\n",
        "import pandas as pd"
      ],
      "execution_count": 3,
      "outputs": []
    },
    {
      "cell_type": "code",
      "metadata": {
        "id": "y3TWhOW9gkz1"
      },
      "source": [
        "import os\r\n",
        "os.getcwd()\r\n",
        "os.mkdir('annimp')"
      ],
      "execution_count": 4,
      "outputs": []
    },
    {
      "cell_type": "code",
      "metadata": {
        "colab": {
          "base_uri": "https://localhost:8080/",
          "height": 35
        },
        "id": "s7AFUN82iPDd",
        "outputId": "ae62ddb6-7be8-4074-cce5-649c409bad7b"
      },
      "source": [
        "os.chdir('annimp')\r\n",
        "os.getcwd()"
      ],
      "execution_count": 5,
      "outputs": [
        {
          "output_type": "execute_result",
          "data": {
            "application/vnd.google.colaboratory.intrinsic+json": {
              "type": "string"
            },
            "text/plain": [
              "'/content/annimp'"
            ]
          },
          "metadata": {
            "tags": []
          },
          "execution_count": 5
        }
      ]
    },
    {
      "cell_type": "code",
      "metadata": {
        "id": "-H0j08pym5HX"
      },
      "source": [
        "# Importing the dataset\n",
        "dataset = pd.read_csv('Churn_Modelling.csv')\n",
        "X = dataset.iloc[:, 3:13]\n",
        "y = dataset.iloc[:, 13]"
      ],
      "execution_count": 6,
      "outputs": []
    },
    {
      "cell_type": "code",
      "metadata": {
        "colab": {
          "base_uri": "https://localhost:8080/",
          "height": 224
        },
        "id": "DjrDO7jjfGzP",
        "outputId": "4f05f929-87fd-4674-e5d5-a3c0625b464f"
      },
      "source": [
        "dataset.head()"
      ],
      "execution_count": 7,
      "outputs": [
        {
          "output_type": "execute_result",
          "data": {
            "text/html": [
              "<div>\n",
              "<style scoped>\n",
              "    .dataframe tbody tr th:only-of-type {\n",
              "        vertical-align: middle;\n",
              "    }\n",
              "\n",
              "    .dataframe tbody tr th {\n",
              "        vertical-align: top;\n",
              "    }\n",
              "\n",
              "    .dataframe thead th {\n",
              "        text-align: right;\n",
              "    }\n",
              "</style>\n",
              "<table border=\"1\" class=\"dataframe\">\n",
              "  <thead>\n",
              "    <tr style=\"text-align: right;\">\n",
              "      <th></th>\n",
              "      <th>RowNumber</th>\n",
              "      <th>CustomerId</th>\n",
              "      <th>Surname</th>\n",
              "      <th>CreditScore</th>\n",
              "      <th>Geography</th>\n",
              "      <th>Gender</th>\n",
              "      <th>Age</th>\n",
              "      <th>Tenure</th>\n",
              "      <th>Balance</th>\n",
              "      <th>NumOfProducts</th>\n",
              "      <th>HasCrCard</th>\n",
              "      <th>IsActiveMember</th>\n",
              "      <th>EstimatedSalary</th>\n",
              "      <th>Exited</th>\n",
              "    </tr>\n",
              "  </thead>\n",
              "  <tbody>\n",
              "    <tr>\n",
              "      <th>0</th>\n",
              "      <td>1</td>\n",
              "      <td>15634602</td>\n",
              "      <td>Hargrave</td>\n",
              "      <td>619</td>\n",
              "      <td>France</td>\n",
              "      <td>Female</td>\n",
              "      <td>42</td>\n",
              "      <td>2</td>\n",
              "      <td>0.00</td>\n",
              "      <td>1</td>\n",
              "      <td>1</td>\n",
              "      <td>1</td>\n",
              "      <td>101348.88</td>\n",
              "      <td>1</td>\n",
              "    </tr>\n",
              "    <tr>\n",
              "      <th>1</th>\n",
              "      <td>2</td>\n",
              "      <td>15647311</td>\n",
              "      <td>Hill</td>\n",
              "      <td>608</td>\n",
              "      <td>Spain</td>\n",
              "      <td>Female</td>\n",
              "      <td>41</td>\n",
              "      <td>1</td>\n",
              "      <td>83807.86</td>\n",
              "      <td>1</td>\n",
              "      <td>0</td>\n",
              "      <td>1</td>\n",
              "      <td>112542.58</td>\n",
              "      <td>0</td>\n",
              "    </tr>\n",
              "    <tr>\n",
              "      <th>2</th>\n",
              "      <td>3</td>\n",
              "      <td>15619304</td>\n",
              "      <td>Onio</td>\n",
              "      <td>502</td>\n",
              "      <td>France</td>\n",
              "      <td>Female</td>\n",
              "      <td>42</td>\n",
              "      <td>8</td>\n",
              "      <td>159660.80</td>\n",
              "      <td>3</td>\n",
              "      <td>1</td>\n",
              "      <td>0</td>\n",
              "      <td>113931.57</td>\n",
              "      <td>1</td>\n",
              "    </tr>\n",
              "    <tr>\n",
              "      <th>3</th>\n",
              "      <td>4</td>\n",
              "      <td>15701354</td>\n",
              "      <td>Boni</td>\n",
              "      <td>699</td>\n",
              "      <td>France</td>\n",
              "      <td>Female</td>\n",
              "      <td>39</td>\n",
              "      <td>1</td>\n",
              "      <td>0.00</td>\n",
              "      <td>2</td>\n",
              "      <td>0</td>\n",
              "      <td>0</td>\n",
              "      <td>93826.63</td>\n",
              "      <td>0</td>\n",
              "    </tr>\n",
              "    <tr>\n",
              "      <th>4</th>\n",
              "      <td>5</td>\n",
              "      <td>15737888</td>\n",
              "      <td>Mitchell</td>\n",
              "      <td>850</td>\n",
              "      <td>Spain</td>\n",
              "      <td>Female</td>\n",
              "      <td>43</td>\n",
              "      <td>2</td>\n",
              "      <td>125510.82</td>\n",
              "      <td>1</td>\n",
              "      <td>1</td>\n",
              "      <td>1</td>\n",
              "      <td>79084.10</td>\n",
              "      <td>0</td>\n",
              "    </tr>\n",
              "  </tbody>\n",
              "</table>\n",
              "</div>"
            ],
            "text/plain": [
              "   RowNumber  CustomerId   Surname  ...  IsActiveMember EstimatedSalary Exited\n",
              "0          1    15634602  Hargrave  ...               1       101348.88      1\n",
              "1          2    15647311      Hill  ...               1       112542.58      0\n",
              "2          3    15619304      Onio  ...               0       113931.57      1\n",
              "3          4    15701354      Boni  ...               0        93826.63      0\n",
              "4          5    15737888  Mitchell  ...               1        79084.10      0\n",
              "\n",
              "[5 rows x 14 columns]"
            ]
          },
          "metadata": {
            "tags": []
          },
          "execution_count": 7
        }
      ]
    },
    {
      "cell_type": "code",
      "metadata": {
        "colab": {
          "base_uri": "https://localhost:8080/"
        },
        "id": "kKX84Dn8fGzQ",
        "outputId": "cacf3773-780d-4c39-a824-37f555a3f200"
      },
      "source": [
        "dataset.isnull().sum()"
      ],
      "execution_count": 8,
      "outputs": [
        {
          "output_type": "execute_result",
          "data": {
            "text/plain": [
              "RowNumber          0\n",
              "CustomerId         0\n",
              "Surname            0\n",
              "CreditScore        0\n",
              "Geography          0\n",
              "Gender             0\n",
              "Age                0\n",
              "Tenure             0\n",
              "Balance            0\n",
              "NumOfProducts      0\n",
              "HasCrCard          0\n",
              "IsActiveMember     0\n",
              "EstimatedSalary    0\n",
              "Exited             0\n",
              "dtype: int64"
            ]
          },
          "metadata": {
            "tags": []
          },
          "execution_count": 8
        }
      ]
    },
    {
      "cell_type": "code",
      "metadata": {
        "colab": {
          "base_uri": "https://localhost:8080/",
          "height": 204
        },
        "id": "AEIRv2b9fGzQ",
        "outputId": "357589d9-49ed-4d19-b5c5-c3c10a075d66"
      },
      "source": [
        "X.head()"
      ],
      "execution_count": null,
      "outputs": [
        {
          "output_type": "execute_result",
          "data": {
            "text/html": [
              "<div>\n",
              "<style scoped>\n",
              "    .dataframe tbody tr th:only-of-type {\n",
              "        vertical-align: middle;\n",
              "    }\n",
              "\n",
              "    .dataframe tbody tr th {\n",
              "        vertical-align: top;\n",
              "    }\n",
              "\n",
              "    .dataframe thead th {\n",
              "        text-align: right;\n",
              "    }\n",
              "</style>\n",
              "<table border=\"1\" class=\"dataframe\">\n",
              "  <thead>\n",
              "    <tr style=\"text-align: right;\">\n",
              "      <th></th>\n",
              "      <th>CreditScore</th>\n",
              "      <th>Geography</th>\n",
              "      <th>Gender</th>\n",
              "      <th>Age</th>\n",
              "      <th>Tenure</th>\n",
              "      <th>Balance</th>\n",
              "      <th>NumOfProducts</th>\n",
              "      <th>HasCrCard</th>\n",
              "      <th>IsActiveMember</th>\n",
              "      <th>EstimatedSalary</th>\n",
              "    </tr>\n",
              "  </thead>\n",
              "  <tbody>\n",
              "    <tr>\n",
              "      <th>0</th>\n",
              "      <td>619</td>\n",
              "      <td>France</td>\n",
              "      <td>Female</td>\n",
              "      <td>42</td>\n",
              "      <td>2</td>\n",
              "      <td>0.00</td>\n",
              "      <td>1</td>\n",
              "      <td>1</td>\n",
              "      <td>1</td>\n",
              "      <td>101348.88</td>\n",
              "    </tr>\n",
              "    <tr>\n",
              "      <th>1</th>\n",
              "      <td>608</td>\n",
              "      <td>Spain</td>\n",
              "      <td>Female</td>\n",
              "      <td>41</td>\n",
              "      <td>1</td>\n",
              "      <td>83807.86</td>\n",
              "      <td>1</td>\n",
              "      <td>0</td>\n",
              "      <td>1</td>\n",
              "      <td>112542.58</td>\n",
              "    </tr>\n",
              "    <tr>\n",
              "      <th>2</th>\n",
              "      <td>502</td>\n",
              "      <td>France</td>\n",
              "      <td>Female</td>\n",
              "      <td>42</td>\n",
              "      <td>8</td>\n",
              "      <td>159660.80</td>\n",
              "      <td>3</td>\n",
              "      <td>1</td>\n",
              "      <td>0</td>\n",
              "      <td>113931.57</td>\n",
              "    </tr>\n",
              "    <tr>\n",
              "      <th>3</th>\n",
              "      <td>699</td>\n",
              "      <td>France</td>\n",
              "      <td>Female</td>\n",
              "      <td>39</td>\n",
              "      <td>1</td>\n",
              "      <td>0.00</td>\n",
              "      <td>2</td>\n",
              "      <td>0</td>\n",
              "      <td>0</td>\n",
              "      <td>93826.63</td>\n",
              "    </tr>\n",
              "    <tr>\n",
              "      <th>4</th>\n",
              "      <td>850</td>\n",
              "      <td>Spain</td>\n",
              "      <td>Female</td>\n",
              "      <td>43</td>\n",
              "      <td>2</td>\n",
              "      <td>125510.82</td>\n",
              "      <td>1</td>\n",
              "      <td>1</td>\n",
              "      <td>1</td>\n",
              "      <td>79084.10</td>\n",
              "    </tr>\n",
              "  </tbody>\n",
              "</table>\n",
              "</div>"
            ],
            "text/plain": [
              "   CreditScore Geography  Gender  ...  HasCrCard  IsActiveMember  EstimatedSalary\n",
              "0          619    France  Female  ...          1               1        101348.88\n",
              "1          608     Spain  Female  ...          0               1        112542.58\n",
              "2          502    France  Female  ...          1               0        113931.57\n",
              "3          699    France  Female  ...          0               0         93826.63\n",
              "4          850     Spain  Female  ...          1               1         79084.10\n",
              "\n",
              "[5 rows x 10 columns]"
            ]
          },
          "metadata": {
            "tags": []
          },
          "execution_count": 18
        }
      ]
    },
    {
      "cell_type": "code",
      "metadata": {
        "colab": {
          "base_uri": "https://localhost:8080/"
        },
        "id": "yeDUb6OFfGzR",
        "outputId": "321a4903-83dc-4605-ad83-6f302cd982d2"
      },
      "source": [
        "y.head()"
      ],
      "execution_count": null,
      "outputs": [
        {
          "output_type": "execute_result",
          "data": {
            "text/plain": [
              "0    1\n",
              "1    0\n",
              "2    1\n",
              "3    0\n",
              "4    0\n",
              "Name: Exited, dtype: int64"
            ]
          },
          "metadata": {
            "tags": []
          },
          "execution_count": 19
        }
      ]
    },
    {
      "cell_type": "code",
      "metadata": {
        "id": "N9QNTLkJm8tm"
      },
      "source": [
        "#Create dummy variables\n",
        "geography=pd.get_dummies(X[\"Geography\"],drop_first=True)\n",
        "gender=pd.get_dummies(X['Gender'],drop_first=True)\n"
      ],
      "execution_count": 9,
      "outputs": []
    },
    {
      "cell_type": "code",
      "metadata": {
        "id": "q6-i7HVHfGzR",
        "colab": {
          "base_uri": "https://localhost:8080/",
          "height": 419
        },
        "outputId": "412307cf-9ae3-495e-d332-8ba323040c20"
      },
      "source": [
        "geography"
      ],
      "execution_count": null,
      "outputs": [
        {
          "output_type": "execute_result",
          "data": {
            "text/html": [
              "<div>\n",
              "<style scoped>\n",
              "    .dataframe tbody tr th:only-of-type {\n",
              "        vertical-align: middle;\n",
              "    }\n",
              "\n",
              "    .dataframe tbody tr th {\n",
              "        vertical-align: top;\n",
              "    }\n",
              "\n",
              "    .dataframe thead th {\n",
              "        text-align: right;\n",
              "    }\n",
              "</style>\n",
              "<table border=\"1\" class=\"dataframe\">\n",
              "  <thead>\n",
              "    <tr style=\"text-align: right;\">\n",
              "      <th></th>\n",
              "      <th>Germany</th>\n",
              "      <th>Spain</th>\n",
              "    </tr>\n",
              "  </thead>\n",
              "  <tbody>\n",
              "    <tr>\n",
              "      <th>0</th>\n",
              "      <td>0</td>\n",
              "      <td>0</td>\n",
              "    </tr>\n",
              "    <tr>\n",
              "      <th>1</th>\n",
              "      <td>0</td>\n",
              "      <td>1</td>\n",
              "    </tr>\n",
              "    <tr>\n",
              "      <th>2</th>\n",
              "      <td>0</td>\n",
              "      <td>0</td>\n",
              "    </tr>\n",
              "    <tr>\n",
              "      <th>3</th>\n",
              "      <td>0</td>\n",
              "      <td>0</td>\n",
              "    </tr>\n",
              "    <tr>\n",
              "      <th>4</th>\n",
              "      <td>0</td>\n",
              "      <td>1</td>\n",
              "    </tr>\n",
              "    <tr>\n",
              "      <th>...</th>\n",
              "      <td>...</td>\n",
              "      <td>...</td>\n",
              "    </tr>\n",
              "    <tr>\n",
              "      <th>9995</th>\n",
              "      <td>0</td>\n",
              "      <td>0</td>\n",
              "    </tr>\n",
              "    <tr>\n",
              "      <th>9996</th>\n",
              "      <td>0</td>\n",
              "      <td>0</td>\n",
              "    </tr>\n",
              "    <tr>\n",
              "      <th>9997</th>\n",
              "      <td>0</td>\n",
              "      <td>0</td>\n",
              "    </tr>\n",
              "    <tr>\n",
              "      <th>9998</th>\n",
              "      <td>1</td>\n",
              "      <td>0</td>\n",
              "    </tr>\n",
              "    <tr>\n",
              "      <th>9999</th>\n",
              "      <td>0</td>\n",
              "      <td>0</td>\n",
              "    </tr>\n",
              "  </tbody>\n",
              "</table>\n",
              "<p>10000 rows × 2 columns</p>\n",
              "</div>"
            ],
            "text/plain": [
              "      Germany  Spain\n",
              "0           0      0\n",
              "1           0      1\n",
              "2           0      0\n",
              "3           0      0\n",
              "4           0      1\n",
              "...       ...    ...\n",
              "9995        0      0\n",
              "9996        0      0\n",
              "9997        0      0\n",
              "9998        1      0\n",
              "9999        0      0\n",
              "\n",
              "[10000 rows x 2 columns]"
            ]
          },
          "metadata": {
            "tags": []
          },
          "execution_count": 11
        }
      ]
    },
    {
      "cell_type": "code",
      "metadata": {
        "id": "rbNc5sLHnAdP"
      },
      "source": [
        "## Concatenate the Data Frames\n",
        "\n",
        "X=pd.concat([X,geography,gender],axis=1)\n",
        "\n",
        "## Drop Unnecessary columns\n",
        "X=X.drop(['Geography','Gender'],axis=1)"
      ],
      "execution_count": 10,
      "outputs": []
    },
    {
      "cell_type": "code",
      "metadata": {
        "id": "1A6SSyrdfGzS",
        "colab": {
          "base_uri": "https://localhost:8080/"
        },
        "outputId": "60a682d1-859a-4135-f94c-6a9d29b5a188"
      },
      "source": [
        "X.shape"
      ],
      "execution_count": null,
      "outputs": [
        {
          "output_type": "execute_result",
          "data": {
            "text/plain": [
              "(10000, 11)"
            ]
          },
          "metadata": {
            "tags": []
          },
          "execution_count": 13
        }
      ]
    },
    {
      "cell_type": "code",
      "metadata": {
        "id": "Zbfam0r3fGzS",
        "colab": {
          "base_uri": "https://localhost:8080/",
          "height": 204
        },
        "outputId": "166b9728-63af-4e12-f279-d788574d0574"
      },
      "source": [
        "X.head()"
      ],
      "execution_count": 11,
      "outputs": [
        {
          "output_type": "execute_result",
          "data": {
            "text/html": [
              "<div>\n",
              "<style scoped>\n",
              "    .dataframe tbody tr th:only-of-type {\n",
              "        vertical-align: middle;\n",
              "    }\n",
              "\n",
              "    .dataframe tbody tr th {\n",
              "        vertical-align: top;\n",
              "    }\n",
              "\n",
              "    .dataframe thead th {\n",
              "        text-align: right;\n",
              "    }\n",
              "</style>\n",
              "<table border=\"1\" class=\"dataframe\">\n",
              "  <thead>\n",
              "    <tr style=\"text-align: right;\">\n",
              "      <th></th>\n",
              "      <th>CreditScore</th>\n",
              "      <th>Age</th>\n",
              "      <th>Tenure</th>\n",
              "      <th>Balance</th>\n",
              "      <th>NumOfProducts</th>\n",
              "      <th>HasCrCard</th>\n",
              "      <th>IsActiveMember</th>\n",
              "      <th>EstimatedSalary</th>\n",
              "      <th>Germany</th>\n",
              "      <th>Spain</th>\n",
              "      <th>Male</th>\n",
              "    </tr>\n",
              "  </thead>\n",
              "  <tbody>\n",
              "    <tr>\n",
              "      <th>0</th>\n",
              "      <td>619</td>\n",
              "      <td>42</td>\n",
              "      <td>2</td>\n",
              "      <td>0.00</td>\n",
              "      <td>1</td>\n",
              "      <td>1</td>\n",
              "      <td>1</td>\n",
              "      <td>101348.88</td>\n",
              "      <td>0</td>\n",
              "      <td>0</td>\n",
              "      <td>0</td>\n",
              "    </tr>\n",
              "    <tr>\n",
              "      <th>1</th>\n",
              "      <td>608</td>\n",
              "      <td>41</td>\n",
              "      <td>1</td>\n",
              "      <td>83807.86</td>\n",
              "      <td>1</td>\n",
              "      <td>0</td>\n",
              "      <td>1</td>\n",
              "      <td>112542.58</td>\n",
              "      <td>0</td>\n",
              "      <td>1</td>\n",
              "      <td>0</td>\n",
              "    </tr>\n",
              "    <tr>\n",
              "      <th>2</th>\n",
              "      <td>502</td>\n",
              "      <td>42</td>\n",
              "      <td>8</td>\n",
              "      <td>159660.80</td>\n",
              "      <td>3</td>\n",
              "      <td>1</td>\n",
              "      <td>0</td>\n",
              "      <td>113931.57</td>\n",
              "      <td>0</td>\n",
              "      <td>0</td>\n",
              "      <td>0</td>\n",
              "    </tr>\n",
              "    <tr>\n",
              "      <th>3</th>\n",
              "      <td>699</td>\n",
              "      <td>39</td>\n",
              "      <td>1</td>\n",
              "      <td>0.00</td>\n",
              "      <td>2</td>\n",
              "      <td>0</td>\n",
              "      <td>0</td>\n",
              "      <td>93826.63</td>\n",
              "      <td>0</td>\n",
              "      <td>0</td>\n",
              "      <td>0</td>\n",
              "    </tr>\n",
              "    <tr>\n",
              "      <th>4</th>\n",
              "      <td>850</td>\n",
              "      <td>43</td>\n",
              "      <td>2</td>\n",
              "      <td>125510.82</td>\n",
              "      <td>1</td>\n",
              "      <td>1</td>\n",
              "      <td>1</td>\n",
              "      <td>79084.10</td>\n",
              "      <td>0</td>\n",
              "      <td>1</td>\n",
              "      <td>0</td>\n",
              "    </tr>\n",
              "  </tbody>\n",
              "</table>\n",
              "</div>"
            ],
            "text/plain": [
              "   CreditScore  Age  Tenure    Balance  ...  EstimatedSalary  Germany  Spain  Male\n",
              "0          619   42       2       0.00  ...        101348.88        0      0     0\n",
              "1          608   41       1   83807.86  ...        112542.58        0      1     0\n",
              "2          502   42       8  159660.80  ...        113931.57        0      0     0\n",
              "3          699   39       1       0.00  ...         93826.63        0      0     0\n",
              "4          850   43       2  125510.82  ...         79084.10        0      1     0\n",
              "\n",
              "[5 rows x 11 columns]"
            ]
          },
          "metadata": {
            "tags": []
          },
          "execution_count": 11
        }
      ]
    },
    {
      "cell_type": "code",
      "metadata": {
        "id": "YkYOlHPAnDz_"
      },
      "source": [
        "# Splitting the dataset into the Training set and Test set\n",
        "from sklearn.model_selection import train_test_split\n",
        "X_train, X_test, y_train, y_test = train_test_split(X, y, test_size = 0.2, random_state = 0)\n"
      ],
      "execution_count": 12,
      "outputs": []
    },
    {
      "cell_type": "code",
      "metadata": {
        "id": "cP2vl1p9nGyj"
      },
      "source": [
        "# Feature Scaling\n",
        "from sklearn.preprocessing import StandardScaler\n",
        "sc = StandardScaler()\n",
        "X_train = sc.fit_transform(X_train)\n",
        "X_test = sc.transform(X_test)"
      ],
      "execution_count": 13,
      "outputs": []
    },
    {
      "cell_type": "code",
      "metadata": {
        "id": "4zSPbGzbfGzT",
        "colab": {
          "base_uri": "https://localhost:8080/"
        },
        "outputId": "aabc0b52-02b3-4f8a-c5ca-4caeefca457d"
      },
      "source": [
        "X_train"
      ],
      "execution_count": 16,
      "outputs": [
        {
          "output_type": "execute_result",
          "data": {
            "text/plain": [
              "array([[ 0.16958176, -0.46460796,  0.00666099, ..., -0.5698444 ,\n",
              "         1.74309049, -1.09168714],\n",
              "       [-2.30455945,  0.30102557, -1.37744033, ...,  1.75486502,\n",
              "        -0.57369368,  0.91601335],\n",
              "       [-1.19119591, -0.94312892, -1.031415  , ..., -0.5698444 ,\n",
              "        -0.57369368, -1.09168714],\n",
              "       ...,\n",
              "       [ 0.9015152 , -0.36890377,  0.00666099, ..., -0.5698444 ,\n",
              "        -0.57369368,  0.91601335],\n",
              "       [-0.62420521, -0.08179119,  1.39076231, ..., -0.5698444 ,\n",
              "         1.74309049, -1.09168714],\n",
              "       [-0.28401079,  0.87525072, -1.37744033, ...,  1.75486502,\n",
              "        -0.57369368, -1.09168714]])"
            ]
          },
          "metadata": {
            "tags": []
          },
          "execution_count": 16
        }
      ]
    },
    {
      "cell_type": "code",
      "metadata": {
        "id": "aGOet1tpfGzU",
        "colab": {
          "base_uri": "https://localhost:8080/"
        },
        "outputId": "5a22c4c6-12d7-4183-d995-1d79932051d4"
      },
      "source": [
        "import tensorflow\n",
        "print(tensorflow.__version__)"
      ],
      "execution_count": 17,
      "outputs": [
        {
          "output_type": "stream",
          "text": [
            "2.3.0\n"
          ],
          "name": "stdout"
        }
      ]
    },
    {
      "cell_type": "code",
      "metadata": {
        "id": "9cazFt9anJYm"
      },
      "source": [
        "# Part 2 - Now let's make the ANN!\n",
        "\n",
        "# Importing the Keras libraries and packages\n",
        "import tensorflow.keras\n",
        "from tensorflow.keras.models import Sequential\n",
        "from tensorflow.keras.layers import Dense\n",
        "from tensorflow.keras.layers import Dropout"
      ],
      "execution_count": 19,
      "outputs": []
    },
    {
      "cell_type": "code",
      "metadata": {
        "id": "uuQ4aGhjnVfc"
      },
      "source": [
        "# Initialising the ANN\n",
        "classifier = Sequential()\n",
        "\n",
        "# Adding the input layer and the first hidden layer\n",
        "classifier.add(Dense(units = 10,kernel_initializer='he_uniform',activation='relu',input_dim = 11))\n",
        "\n",
        "# Adding the second hidden layer\n",
        "classifier.add(Dense(units = 10, kernel_initializer = 'he_uniform',activation='relu'))\n",
        "# Adding the output layer\n",
        "classifier.add(Dense(units = 1, kernel_initializer = 'glorot_uniform', activation = 'sigmoid'))\n",
        "\n",
        "# Compiling the ANN\n",
        "classifier.compile(optimizer = 'adam', loss = 'binary_crossentropy', metrics = ['accuracy'])"
      ],
      "execution_count": 20,
      "outputs": []
    },
    {
      "cell_type": "code",
      "metadata": {
        "id": "fXwZOpR4fGzV",
        "colab": {
          "base_uri": "https://localhost:8080/"
        },
        "outputId": "12bd513c-7ae9-486a-bf01-b443bae6921b"
      },
      "source": [
        "classifier.summary()"
      ],
      "execution_count": 21,
      "outputs": [
        {
          "output_type": "stream",
          "text": [
            "Model: \"sequential\"\n",
            "_________________________________________________________________\n",
            "Layer (type)                 Output Shape              Param #   \n",
            "=================================================================\n",
            "dense (Dense)                (None, 10)                120       \n",
            "_________________________________________________________________\n",
            "dense_1 (Dense)              (None, 10)                110       \n",
            "_________________________________________________________________\n",
            "dense_2 (Dense)              (None, 1)                 11        \n",
            "=================================================================\n",
            "Total params: 241\n",
            "Trainable params: 241\n",
            "Non-trainable params: 0\n",
            "_________________________________________________________________\n"
          ],
          "name": "stdout"
        }
      ]
    },
    {
      "cell_type": "code",
      "metadata": {
        "id": "AGHYlFnGfGzV",
        "colab": {
          "base_uri": "https://localhost:8080/"
        },
        "outputId": "0558fd9b-48cc-4b4d-f1e8-c0e9af1a4c13"
      },
      "source": [
        "X_train.shape"
      ],
      "execution_count": 22,
      "outputs": [
        {
          "output_type": "execute_result",
          "data": {
            "text/plain": [
              "(8000, 11)"
            ]
          },
          "metadata": {
            "tags": []
          },
          "execution_count": 22
        }
      ]
    },
    {
      "cell_type": "code",
      "metadata": {
        "colab": {
          "base_uri": "https://localhost:8080/"
        },
        "id": "zQ50oSx9nciT",
        "outputId": "d84e0f72-f34e-4fe6-f425-e0d892b58c1f"
      },
      "source": [
        "# Fitting the ANN to the Training set\n",
        "model_history=classifier.fit(X_train, y_train,validation_split=0.33, batch_size = 100,epochs = 100)"
      ],
      "execution_count": 24,
      "outputs": [
        {
          "output_type": "stream",
          "text": [
            "Epoch 1/100\n",
            "54/54 [==============================] - 0s 5ms/step - loss: 0.7472 - accuracy: 0.4038 - val_loss: 0.6573 - val_accuracy: 0.6573\n",
            "Epoch 2/100\n",
            "54/54 [==============================] - 0s 3ms/step - loss: 0.6164 - accuracy: 0.7647 - val_loss: 0.5835 - val_accuracy: 0.7955\n",
            "Epoch 3/100\n",
            "54/54 [==============================] - 0s 3ms/step - loss: 0.5616 - accuracy: 0.7962 - val_loss: 0.5433 - val_accuracy: 0.7955\n",
            "Epoch 4/100\n",
            "54/54 [==============================] - 0s 3ms/step - loss: 0.5232 - accuracy: 0.7962 - val_loss: 0.5104 - val_accuracy: 0.7955\n",
            "Epoch 5/100\n",
            "54/54 [==============================] - 0s 3ms/step - loss: 0.4910 - accuracy: 0.7964 - val_loss: 0.4839 - val_accuracy: 0.7974\n",
            "Epoch 6/100\n",
            "54/54 [==============================] - 0s 3ms/step - loss: 0.4663 - accuracy: 0.8009 - val_loss: 0.4648 - val_accuracy: 0.8046\n",
            "Epoch 7/100\n",
            "54/54 [==============================] - 0s 3ms/step - loss: 0.4489 - accuracy: 0.8065 - val_loss: 0.4519 - val_accuracy: 0.8088\n",
            "Epoch 8/100\n",
            "54/54 [==============================] - 0s 3ms/step - loss: 0.4360 - accuracy: 0.8141 - val_loss: 0.4430 - val_accuracy: 0.8126\n",
            "Epoch 9/100\n",
            "54/54 [==============================] - 0s 3ms/step - loss: 0.4267 - accuracy: 0.8181 - val_loss: 0.4361 - val_accuracy: 0.8171\n",
            "Epoch 10/100\n",
            "54/54 [==============================] - 0s 3ms/step - loss: 0.4197 - accuracy: 0.8216 - val_loss: 0.4305 - val_accuracy: 0.8175\n",
            "Epoch 11/100\n",
            "54/54 [==============================] - 0s 3ms/step - loss: 0.4136 - accuracy: 0.8244 - val_loss: 0.4249 - val_accuracy: 0.8186\n",
            "Epoch 12/100\n",
            "54/54 [==============================] - 0s 3ms/step - loss: 0.4080 - accuracy: 0.8281 - val_loss: 0.4199 - val_accuracy: 0.8209\n",
            "Epoch 13/100\n",
            "54/54 [==============================] - 0s 3ms/step - loss: 0.4026 - accuracy: 0.8302 - val_loss: 0.4144 - val_accuracy: 0.8239\n",
            "Epoch 14/100\n",
            "54/54 [==============================] - 0s 3ms/step - loss: 0.3975 - accuracy: 0.8319 - val_loss: 0.4097 - val_accuracy: 0.8270\n",
            "Epoch 15/100\n",
            "54/54 [==============================] - 0s 3ms/step - loss: 0.3924 - accuracy: 0.8365 - val_loss: 0.4044 - val_accuracy: 0.8281\n",
            "Epoch 16/100\n",
            "54/54 [==============================] - 0s 3ms/step - loss: 0.3871 - accuracy: 0.8384 - val_loss: 0.3997 - val_accuracy: 0.8285\n",
            "Epoch 17/100\n",
            "54/54 [==============================] - 0s 3ms/step - loss: 0.3825 - accuracy: 0.8406 - val_loss: 0.3958 - val_accuracy: 0.8326\n",
            "Epoch 18/100\n",
            "54/54 [==============================] - 0s 3ms/step - loss: 0.3785 - accuracy: 0.8423 - val_loss: 0.3913 - val_accuracy: 0.8349\n",
            "Epoch 19/100\n",
            "54/54 [==============================] - 0s 3ms/step - loss: 0.3735 - accuracy: 0.8453 - val_loss: 0.3871 - val_accuracy: 0.8342\n",
            "Epoch 20/100\n",
            "54/54 [==============================] - 0s 3ms/step - loss: 0.3695 - accuracy: 0.8481 - val_loss: 0.3834 - val_accuracy: 0.8368\n",
            "Epoch 21/100\n",
            "54/54 [==============================] - 0s 3ms/step - loss: 0.3658 - accuracy: 0.8489 - val_loss: 0.3802 - val_accuracy: 0.8391\n",
            "Epoch 22/100\n",
            "54/54 [==============================] - 0s 3ms/step - loss: 0.3623 - accuracy: 0.8515 - val_loss: 0.3771 - val_accuracy: 0.8395\n",
            "Epoch 23/100\n",
            "54/54 [==============================] - 0s 3ms/step - loss: 0.3595 - accuracy: 0.8515 - val_loss: 0.3742 - val_accuracy: 0.8429\n",
            "Epoch 24/100\n",
            "54/54 [==============================] - 0s 3ms/step - loss: 0.3569 - accuracy: 0.8517 - val_loss: 0.3721 - val_accuracy: 0.8444\n",
            "Epoch 25/100\n",
            "54/54 [==============================] - 0s 3ms/step - loss: 0.3538 - accuracy: 0.8535 - val_loss: 0.3692 - val_accuracy: 0.8459\n",
            "Epoch 26/100\n",
            "54/54 [==============================] - 0s 3ms/step - loss: 0.3515 - accuracy: 0.8543 - val_loss: 0.3670 - val_accuracy: 0.8482\n",
            "Epoch 27/100\n",
            "54/54 [==============================] - 0s 3ms/step - loss: 0.3484 - accuracy: 0.8556 - val_loss: 0.3648 - val_accuracy: 0.8489\n",
            "Epoch 28/100\n",
            "54/54 [==============================] - 0s 3ms/step - loss: 0.3466 - accuracy: 0.8582 - val_loss: 0.3632 - val_accuracy: 0.8527\n",
            "Epoch 29/100\n",
            "54/54 [==============================] - 0s 3ms/step - loss: 0.3445 - accuracy: 0.8582 - val_loss: 0.3612 - val_accuracy: 0.8508\n",
            "Epoch 30/100\n",
            "54/54 [==============================] - 0s 3ms/step - loss: 0.3426 - accuracy: 0.8587 - val_loss: 0.3605 - val_accuracy: 0.8557\n",
            "Epoch 31/100\n",
            "54/54 [==============================] - 0s 3ms/step - loss: 0.3410 - accuracy: 0.8617 - val_loss: 0.3586 - val_accuracy: 0.8516\n",
            "Epoch 32/100\n",
            "54/54 [==============================] - 0s 3ms/step - loss: 0.3397 - accuracy: 0.8615 - val_loss: 0.3574 - val_accuracy: 0.8535\n",
            "Epoch 33/100\n",
            "54/54 [==============================] - 0s 3ms/step - loss: 0.3383 - accuracy: 0.8636 - val_loss: 0.3565 - val_accuracy: 0.8580\n",
            "Epoch 34/100\n",
            "54/54 [==============================] - 0s 3ms/step - loss: 0.3370 - accuracy: 0.8610 - val_loss: 0.3556 - val_accuracy: 0.8588\n",
            "Epoch 35/100\n",
            "54/54 [==============================] - 0s 3ms/step - loss: 0.3360 - accuracy: 0.8642 - val_loss: 0.3549 - val_accuracy: 0.8603\n",
            "Epoch 36/100\n",
            "54/54 [==============================] - 0s 3ms/step - loss: 0.3354 - accuracy: 0.8623 - val_loss: 0.3544 - val_accuracy: 0.8588\n",
            "Epoch 37/100\n",
            "54/54 [==============================] - 0s 3ms/step - loss: 0.3340 - accuracy: 0.8645 - val_loss: 0.3541 - val_accuracy: 0.8622\n",
            "Epoch 38/100\n",
            "54/54 [==============================] - 0s 3ms/step - loss: 0.3334 - accuracy: 0.8643 - val_loss: 0.3530 - val_accuracy: 0.8603\n",
            "Epoch 39/100\n",
            "54/54 [==============================] - 0s 3ms/step - loss: 0.3327 - accuracy: 0.8642 - val_loss: 0.3528 - val_accuracy: 0.8610\n",
            "Epoch 40/100\n",
            "54/54 [==============================] - 0s 3ms/step - loss: 0.3318 - accuracy: 0.8630 - val_loss: 0.3521 - val_accuracy: 0.8607\n",
            "Epoch 41/100\n",
            "54/54 [==============================] - 0s 3ms/step - loss: 0.3315 - accuracy: 0.8640 - val_loss: 0.3521 - val_accuracy: 0.8588\n",
            "Epoch 42/100\n",
            "54/54 [==============================] - 0s 3ms/step - loss: 0.3311 - accuracy: 0.8630 - val_loss: 0.3515 - val_accuracy: 0.8614\n",
            "Epoch 43/100\n",
            "54/54 [==============================] - 0s 3ms/step - loss: 0.3301 - accuracy: 0.8642 - val_loss: 0.3514 - val_accuracy: 0.8614\n",
            "Epoch 44/100\n",
            "54/54 [==============================] - 0s 3ms/step - loss: 0.3298 - accuracy: 0.8649 - val_loss: 0.3510 - val_accuracy: 0.8595\n",
            "Epoch 45/100\n",
            "54/54 [==============================] - 0s 3ms/step - loss: 0.3293 - accuracy: 0.8656 - val_loss: 0.3512 - val_accuracy: 0.8618\n",
            "Epoch 46/100\n",
            "54/54 [==============================] - 0s 3ms/step - loss: 0.3292 - accuracy: 0.8640 - val_loss: 0.3506 - val_accuracy: 0.8610\n",
            "Epoch 47/100\n",
            "54/54 [==============================] - 0s 3ms/step - loss: 0.3286 - accuracy: 0.8660 - val_loss: 0.3505 - val_accuracy: 0.8614\n",
            "Epoch 48/100\n",
            "54/54 [==============================] - 0s 3ms/step - loss: 0.3281 - accuracy: 0.8647 - val_loss: 0.3503 - val_accuracy: 0.8607\n",
            "Epoch 49/100\n",
            "54/54 [==============================] - 0s 3ms/step - loss: 0.3281 - accuracy: 0.8658 - val_loss: 0.3500 - val_accuracy: 0.8607\n",
            "Epoch 50/100\n",
            "54/54 [==============================] - 0s 3ms/step - loss: 0.3283 - accuracy: 0.8653 - val_loss: 0.3501 - val_accuracy: 0.8580\n",
            "Epoch 51/100\n",
            "54/54 [==============================] - 0s 3ms/step - loss: 0.3274 - accuracy: 0.8645 - val_loss: 0.3496 - val_accuracy: 0.8580\n",
            "Epoch 52/100\n",
            "54/54 [==============================] - 0s 3ms/step - loss: 0.3267 - accuracy: 0.8653 - val_loss: 0.3499 - val_accuracy: 0.8580\n",
            "Epoch 53/100\n",
            "54/54 [==============================] - 0s 3ms/step - loss: 0.3270 - accuracy: 0.8634 - val_loss: 0.3506 - val_accuracy: 0.8576\n",
            "Epoch 54/100\n",
            "54/54 [==============================] - 0s 3ms/step - loss: 0.3268 - accuracy: 0.8660 - val_loss: 0.3496 - val_accuracy: 0.8607\n",
            "Epoch 55/100\n",
            "54/54 [==============================] - 0s 3ms/step - loss: 0.3264 - accuracy: 0.8656 - val_loss: 0.3494 - val_accuracy: 0.8576\n",
            "Epoch 56/100\n",
            "54/54 [==============================] - 0s 3ms/step - loss: 0.3258 - accuracy: 0.8655 - val_loss: 0.3491 - val_accuracy: 0.8603\n",
            "Epoch 57/100\n",
            "54/54 [==============================] - 0s 3ms/step - loss: 0.3260 - accuracy: 0.8662 - val_loss: 0.3490 - val_accuracy: 0.8588\n",
            "Epoch 58/100\n",
            "54/54 [==============================] - 0s 3ms/step - loss: 0.3251 - accuracy: 0.8664 - val_loss: 0.3492 - val_accuracy: 0.8569\n",
            "Epoch 59/100\n",
            "54/54 [==============================] - 0s 3ms/step - loss: 0.3254 - accuracy: 0.8649 - val_loss: 0.3505 - val_accuracy: 0.8554\n",
            "Epoch 60/100\n",
            "54/54 [==============================] - 0s 3ms/step - loss: 0.3255 - accuracy: 0.8653 - val_loss: 0.3489 - val_accuracy: 0.8569\n",
            "Epoch 61/100\n",
            "54/54 [==============================] - 0s 3ms/step - loss: 0.3250 - accuracy: 0.8645 - val_loss: 0.3500 - val_accuracy: 0.8546\n",
            "Epoch 62/100\n",
            "54/54 [==============================] - 0s 3ms/step - loss: 0.3245 - accuracy: 0.8666 - val_loss: 0.3489 - val_accuracy: 0.8580\n",
            "Epoch 63/100\n",
            "54/54 [==============================] - 0s 3ms/step - loss: 0.3241 - accuracy: 0.8670 - val_loss: 0.3486 - val_accuracy: 0.8588\n",
            "Epoch 64/100\n",
            "54/54 [==============================] - 0s 3ms/step - loss: 0.3237 - accuracy: 0.8670 - val_loss: 0.3486 - val_accuracy: 0.8591\n",
            "Epoch 65/100\n",
            "54/54 [==============================] - 0s 3ms/step - loss: 0.3237 - accuracy: 0.8664 - val_loss: 0.3492 - val_accuracy: 0.8557\n",
            "Epoch 66/100\n",
            "54/54 [==============================] - 0s 3ms/step - loss: 0.3234 - accuracy: 0.8666 - val_loss: 0.3484 - val_accuracy: 0.8580\n",
            "Epoch 67/100\n",
            "54/54 [==============================] - 0s 3ms/step - loss: 0.3234 - accuracy: 0.8671 - val_loss: 0.3486 - val_accuracy: 0.8591\n",
            "Epoch 68/100\n",
            "54/54 [==============================] - 0s 3ms/step - loss: 0.3238 - accuracy: 0.8656 - val_loss: 0.3504 - val_accuracy: 0.8573\n",
            "Epoch 69/100\n",
            "54/54 [==============================] - 0s 3ms/step - loss: 0.3228 - accuracy: 0.8671 - val_loss: 0.3485 - val_accuracy: 0.8595\n",
            "Epoch 70/100\n",
            "54/54 [==============================] - 0s 3ms/step - loss: 0.3226 - accuracy: 0.8683 - val_loss: 0.3488 - val_accuracy: 0.8565\n",
            "Epoch 71/100\n",
            "54/54 [==============================] - 0s 3ms/step - loss: 0.3226 - accuracy: 0.8660 - val_loss: 0.3483 - val_accuracy: 0.8603\n",
            "Epoch 72/100\n",
            "54/54 [==============================] - 0s 3ms/step - loss: 0.3229 - accuracy: 0.8649 - val_loss: 0.3482 - val_accuracy: 0.8599\n",
            "Epoch 73/100\n",
            "54/54 [==============================] - 0s 3ms/step - loss: 0.3225 - accuracy: 0.8668 - val_loss: 0.3487 - val_accuracy: 0.8569\n",
            "Epoch 74/100\n",
            "54/54 [==============================] - 0s 3ms/step - loss: 0.3222 - accuracy: 0.8662 - val_loss: 0.3485 - val_accuracy: 0.8584\n",
            "Epoch 75/100\n",
            "54/54 [==============================] - 0s 3ms/step - loss: 0.3220 - accuracy: 0.8679 - val_loss: 0.3484 - val_accuracy: 0.8599\n",
            "Epoch 76/100\n",
            "54/54 [==============================] - 0s 3ms/step - loss: 0.3222 - accuracy: 0.8656 - val_loss: 0.3488 - val_accuracy: 0.8580\n",
            "Epoch 77/100\n",
            "54/54 [==============================] - 0s 3ms/step - loss: 0.3216 - accuracy: 0.8668 - val_loss: 0.3482 - val_accuracy: 0.8595\n",
            "Epoch 78/100\n",
            "54/54 [==============================] - 0s 3ms/step - loss: 0.3214 - accuracy: 0.8666 - val_loss: 0.3490 - val_accuracy: 0.8573\n",
            "Epoch 79/100\n",
            "54/54 [==============================] - 0s 3ms/step - loss: 0.3212 - accuracy: 0.8668 - val_loss: 0.3487 - val_accuracy: 0.8603\n",
            "Epoch 80/100\n",
            "54/54 [==============================] - 0s 3ms/step - loss: 0.3212 - accuracy: 0.8681 - val_loss: 0.3485 - val_accuracy: 0.8595\n",
            "Epoch 81/100\n",
            "54/54 [==============================] - 0s 3ms/step - loss: 0.3211 - accuracy: 0.8666 - val_loss: 0.3488 - val_accuracy: 0.8580\n",
            "Epoch 82/100\n",
            "54/54 [==============================] - 0s 3ms/step - loss: 0.3211 - accuracy: 0.8668 - val_loss: 0.3488 - val_accuracy: 0.8576\n",
            "Epoch 83/100\n",
            "54/54 [==============================] - 0s 3ms/step - loss: 0.3212 - accuracy: 0.8656 - val_loss: 0.3491 - val_accuracy: 0.8573\n",
            "Epoch 84/100\n",
            "54/54 [==============================] - 0s 3ms/step - loss: 0.3206 - accuracy: 0.8679 - val_loss: 0.3488 - val_accuracy: 0.8584\n",
            "Epoch 85/100\n",
            "54/54 [==============================] - 0s 3ms/step - loss: 0.3206 - accuracy: 0.8677 - val_loss: 0.3484 - val_accuracy: 0.8599\n",
            "Epoch 86/100\n",
            "54/54 [==============================] - 0s 3ms/step - loss: 0.3201 - accuracy: 0.8670 - val_loss: 0.3487 - val_accuracy: 0.8580\n",
            "Epoch 87/100\n",
            "54/54 [==============================] - 0s 3ms/step - loss: 0.3200 - accuracy: 0.8664 - val_loss: 0.3486 - val_accuracy: 0.8610\n",
            "Epoch 88/100\n",
            "54/54 [==============================] - 0s 3ms/step - loss: 0.3203 - accuracy: 0.8662 - val_loss: 0.3485 - val_accuracy: 0.8588\n",
            "Epoch 89/100\n",
            "54/54 [==============================] - 0s 3ms/step - loss: 0.3204 - accuracy: 0.8684 - val_loss: 0.3490 - val_accuracy: 0.8576\n",
            "Epoch 90/100\n",
            "54/54 [==============================] - 0s 3ms/step - loss: 0.3200 - accuracy: 0.8677 - val_loss: 0.3489 - val_accuracy: 0.8573\n",
            "Epoch 91/100\n",
            "54/54 [==============================] - 0s 3ms/step - loss: 0.3198 - accuracy: 0.8681 - val_loss: 0.3485 - val_accuracy: 0.8607\n",
            "Epoch 92/100\n",
            "54/54 [==============================] - 0s 3ms/step - loss: 0.3193 - accuracy: 0.8684 - val_loss: 0.3498 - val_accuracy: 0.8603\n",
            "Epoch 93/100\n",
            "54/54 [==============================] - 0s 3ms/step - loss: 0.3199 - accuracy: 0.8677 - val_loss: 0.3489 - val_accuracy: 0.8595\n",
            "Epoch 94/100\n",
            "54/54 [==============================] - 0s 3ms/step - loss: 0.3196 - accuracy: 0.8681 - val_loss: 0.3489 - val_accuracy: 0.8607\n",
            "Epoch 95/100\n",
            "54/54 [==============================] - 0s 3ms/step - loss: 0.3194 - accuracy: 0.8675 - val_loss: 0.3489 - val_accuracy: 0.8599\n",
            "Epoch 96/100\n",
            "54/54 [==============================] - 0s 3ms/step - loss: 0.3192 - accuracy: 0.8696 - val_loss: 0.3492 - val_accuracy: 0.8588\n",
            "Epoch 97/100\n",
            "54/54 [==============================] - 0s 3ms/step - loss: 0.3195 - accuracy: 0.8673 - val_loss: 0.3490 - val_accuracy: 0.8599\n",
            "Epoch 98/100\n",
            "54/54 [==============================] - 0s 3ms/step - loss: 0.3188 - accuracy: 0.8694 - val_loss: 0.3492 - val_accuracy: 0.8599\n",
            "Epoch 99/100\n",
            "54/54 [==============================] - 0s 3ms/step - loss: 0.3191 - accuracy: 0.8675 - val_loss: 0.3494 - val_accuracy: 0.8580\n",
            "Epoch 100/100\n",
            "54/54 [==============================] - 0s 3ms/step - loss: 0.3194 - accuracy: 0.8684 - val_loss: 0.3495 - val_accuracy: 0.8603\n"
          ],
          "name": "stdout"
        }
      ]
    },
    {
      "cell_type": "code",
      "metadata": {
        "id": "PQ6TNh2PfGzW",
        "colab": {
          "base_uri": "https://localhost:8080/"
        },
        "outputId": "a0416a47-4e57-42b7-84fb-cf56880017dc"
      },
      "source": [
        "model_history.history.keys()"
      ],
      "execution_count": 25,
      "outputs": [
        {
          "output_type": "execute_result",
          "data": {
            "text/plain": [
              "dict_keys(['loss', 'accuracy', 'val_loss', 'val_accuracy'])"
            ]
          },
          "metadata": {
            "tags": []
          },
          "execution_count": 25
        }
      ]
    },
    {
      "cell_type": "code",
      "metadata": {
        "colab": {
          "base_uri": "https://localhost:8080/",
          "height": 312
        },
        "id": "9YYQKNLFoGqY",
        "outputId": "01496159-7248-4089-8166-3a67750c356f"
      },
      "source": [
        "# list all data in history\n",
        "\n",
        "print(model_history.history.keys())\n",
        "# summarize history for accuracy\n",
        "plt.plot(model_history.history['accuracy'])\n",
        "plt.plot(model_history.history['val_accuracy'])\n",
        "plt.title('model accuracy')\n",
        "plt.ylabel('accuracy')\n",
        "plt.xlabel('epoch')\n",
        "plt.legend(['train', 'test'], loc='upper left')\n",
        "plt.show()"
      ],
      "execution_count": 27,
      "outputs": [
        {
          "output_type": "stream",
          "text": [
            "dict_keys(['loss', 'accuracy', 'val_loss', 'val_accuracy'])\n"
          ],
          "name": "stdout"
        },
        {
          "output_type": "display_data",
          "data": {
            "image/png": "[encoded data removed]",
            "text/plain": [
              "<Figure size 432x288 with 1 Axes>"
            ]
          },
          "metadata": {
            "tags": [],
            "needs_background": "light"
          }
        }
      ]
    },
    {
      "cell_type": "code",
      "metadata": {
        "colab": {
          "base_uri": "https://localhost:8080/",
          "height": 295
        },
        "id": "SxqMInP_ogni",
        "outputId": "d1e6688c-9241-42c7-df74-4b485a18f530"
      },
      "source": [
        "# summarize history for loss\n",
        "plt.plot(model_history.history['loss'])\n",
        "plt.plot(model_history.history['val_loss'])\n",
        "plt.title('model loss')\n",
        "plt.ylabel('loss')\n",
        "plt.xlabel('epoch')\n",
        "plt.legend(['train', 'test'], loc='upper right')\n",
        "plt.show()"
      ],
      "execution_count": 29,
      "outputs": [
        {
          "output_type": "display_data",
          "data": {
            "image/png": "[encoded data removed]",
            "text/plain": [
              "<Figure size 432x288 with 1 Axes>"
            ]
          },
          "metadata": {
            "tags": [],
            "needs_background": "light"
          }
        }
      ]
    },
    {
      "cell_type": "code",
      "metadata": {
        "id": "y2_wiHsdor3R"
      },
      "source": [
        "# Part 3 - Making the predictions and evaluating the model\n",
        "\n",
        "# Predicting the Test set results\n",
        "y_pred = classifier.predict(X_test)\n",
        "y_pred = (y_pred > 0.5)"
      ],
      "execution_count": 30,
      "outputs": []
    },
    {
      "cell_type": "code",
      "metadata": {
        "id": "bpavHkSmfGzX",
        "colab": {
          "base_uri": "https://localhost:8080/"
        },
        "outputId": "d73df4e7-65dd-499b-c738-ce46aa8be6c3"
      },
      "source": [
        "y_pred"
      ],
      "execution_count": 31,
      "outputs": [
        {
          "output_type": "execute_result",
          "data": {
            "text/plain": [
              "array([[False],\n",
              "       [False],\n",
              "       [False],\n",
              "       ...,\n",
              "       [False],\n",
              "       [False],\n",
              "       [False]])"
            ]
          },
          "metadata": {
            "tags": []
          },
          "execution_count": 31
        }
      ]
    },
    {
      "cell_type": "code",
      "metadata": {
        "id": "6aOhNA4iovzu"
      },
      "source": [
        "# Making the Confusion Matrix\n",
        "from sklearn.metrics import confusion_matrix\n",
        "cm = confusion_matrix(y_test, y_pred)"
      ],
      "execution_count": 32,
      "outputs": []
    },
    {
      "cell_type": "code",
      "metadata": {
        "colab": {
          "base_uri": "https://localhost:8080/"
        },
        "id": "my6JGfzioxy2",
        "outputId": "0aa328e6-174b-403e-b542-1182009a9d7c"
      },
      "source": [
        "cm"
      ],
      "execution_count": 33,
      "outputs": [
        {
          "output_type": "execute_result",
          "data": {
            "text/plain": [
              "array([[1510,   85],\n",
              "       [ 197,  208]])"
            ]
          },
          "metadata": {
            "tags": []
          },
          "execution_count": 33
        }
      ]
    },
    {
      "cell_type": "code",
      "metadata": {
        "id": "G4FVoJl7oyr_"
      },
      "source": [
        "# Calculate the Accuracy\n",
        "from sklearn.metrics import accuracy_score\n",
        "score=accuracy_score(y_pred,y_test)"
      ],
      "execution_count": 34,
      "outputs": []
    },
    {
      "cell_type": "code",
      "metadata": {
        "colab": {
          "base_uri": "https://localhost:8080/"
        },
        "id": "Y4Nlv_pjo1GQ",
        "outputId": "f5493ccf-e868-49b9-d621-02efa7004a2b"
      },
      "source": [
        "score"
      ],
      "execution_count": 35,
      "outputs": [
        {
          "output_type": "execute_result",
          "data": {
            "text/plain": [
              "0.859"
            ]
          },
          "metadata": {
            "tags": []
          },
          "execution_count": 35
        }
      ]
    },
    {
      "cell_type": "code",
      "metadata": {
        "id": "791inrxho2zL"
      },
      "source": [
        ""
      ],
      "execution_count": null,
      "outputs": []
    }
  ]
}