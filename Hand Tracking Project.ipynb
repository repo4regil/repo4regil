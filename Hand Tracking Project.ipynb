{
 "cells": [
  {
   "cell_type": "markdown",
   "id": "889dd2e7",
   "metadata": {},
   "source": [
    "## Tracking movements of Hand and Record the Positions"
   ]
  },
  {
   "cell_type": "code",
   "execution_count": 1,
   "id": "0ef97f75",
   "metadata": {},
   "outputs": [],
   "source": [
    "#import necessary packages\n",
    "import cv2\n",
    "import mediapipe as mp\n",
    "import time"
   ]
  },
  {
   "cell_type": "code",
   "execution_count": 2,
   "id": "4ee5dea8",
   "metadata": {},
   "outputs": [],
   "source": [
    "#to find frames per second\n",
    "ptime= 0   #previous time\n",
    "ctime = 0  #current time"
   ]
  },
  {
   "cell_type": "code",
   "execution_count": 3,
   "id": "3d56c26f",
   "metadata": {},
   "outputs": [],
   "source": [
    "#set up the video capturing\n",
    "path = \"News in Sign Language.mp4\"\n",
    "cap = cv2.VideoCapture(path)\n",
    "mpHands = mp.solutions.hands\n",
    "hands = mpHands.Hands()\n",
    "mpDraw = mp.solutions.drawing_utils\n"
   ]
  },
  {
   "cell_type": "code",
   "execution_count": null,
   "id": "f711259f",
   "metadata": {},
   "outputs": [],
   "source": [
    "#capture the video and process it\n",
    "while True:\n",
    "    \n",
    "    ret, img = cap.read()\n",
    "    imgRGB = cv2.cvtColor(img, cv2.COLOR_BGR2RGB)\n",
    "    results = hands.process(imgRGB)\n",
    "    if results.multi_hand_landmarks:\n",
    "        for handLms in results.multi_hand_landmarks:\n",
    "            \n",
    "            for id, lm in enumerate(handLms.landmark):\n",
    "                \n",
    "                #print(id, lm)\n",
    "                h, w, c = img.shape\n",
    "                cx, cy = int(lm.x*w), int(lm.y*h)\n",
    "                #print(id, cx, cy)\n",
    "#write the tracking positions in a file                \n",
    "                f = open(path+\" - tracks\", \"a\")\n",
    "                f.write(\"idNo:\"+str(id)+\" Xpos:\"+str(cx)+\" Ypos:\"+str(cy)+\"\\n\")\n",
    "            mpDraw.draw_landmarks(img, handLms, mpHands.HAND_CONNECTIONS)\n",
    "    \n",
    "    ctime = time.time()\n",
    "    fps = 1 / (ctime - ptime)\n",
    "    sfps = str(int(fps)) + \" fps\"\n",
    "    ptime = ctime\n",
    "    \n",
    "    cv2.putText(img, sfps, (10, 70), cv2.FONT_HERSHEY_PLAIN, 3, (255,0,0), 5)\n",
    "    cv2.imshow(\"Image\", img)\n",
    "    if cv2.waitKey(1) & 0xFF == ord('q'):\n",
    "        break\n",
    "    "
   ]
  },
  {
   "cell_type": "code",
   "execution_count": null,
   "id": "160f90a1",
   "metadata": {},
   "outputs": [],
   "source": []
  }
 ],
 "metadata": {
  "kernelspec": {
   "display_name": "Python 3",
   "language": "python",
   "name": "python3"
  },
  "language_info": {
   "codemirror_mode": {
    "name": "ipython",
    "version": 3
   },
   "file_extension": ".py",
   "mimetype": "text/x-python",
   "name": "python",
   "nbconvert_exporter": "python",
   "pygments_lexer": "ipython3",
   "version": "3.7.6"
  }
 },
 "nbformat": 4,
 "nbformat_minor": 5
}
